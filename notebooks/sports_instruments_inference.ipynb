{
  "nbformat": 4,
  "nbformat_minor": 0,
  "metadata": {
    "colab": {
      "provenance": []
    },
    "kernelspec": {
      "name": "python3",
      "display_name": "Python 3"
    },
    "language_info": {
      "name": "python"
    }
  },
  "cells": [
    {
      "cell_type": "markdown",
      "source": [
        "# Sports Instrument Recognizer\n",
        "The goal of this project is to classify 20 different types of sports equipment or instrument popular around the globe. The types are following: <br/>\n",
        "1. Basket ball\n",
        "2. Soccer ball\n",
        "3. Goal keeping gloves\n",
        "4. Rugby ball\n",
        "5. Baseball bat\n",
        "6. Tennis racket\n",
        "7. Golf club\n",
        "8. Cricket bat\n",
        "9. Cricket ball\n",
        "10. Cricket helmet\n",
        "11. Hockey stick\n",
        "12. Hockey helmet\n",
        "13. Volleyball ball\n",
        "14. Table tennis paddle\n",
        "15. Badminton racket\n",
        "16. Badminton cork\n",
        "17. Squash racket\n",
        "18. Lacrosse stick\n",
        "19. Frisbee disc\n",
        "20. Bowling ball\n",
        "21. Pool cue"
      ],
      "metadata": {
        "id": "5Ntsgt459Hg-"
      }
    },
    {
      "cell_type": "markdown",
      "source": [
        "# Setting Up for Inference"
      ],
      "metadata": {
        "id": "UArt_Pfd98s0"
      }
    },
    {
      "cell_type": "code",
      "source": [
        "!pip install -Uqq fastai"
      ],
      "metadata": {
        "id": "5WqJCIW59Qsi"
      },
      "execution_count": 1,
      "outputs": []
    },
    {
      "cell_type": "code",
      "execution_count": 2,
      "metadata": {
        "id": "7WWuAuRB9D41"
      },
      "outputs": [],
      "source": [
        "from fastai.vision.all import *"
      ]
    },
    {
      "cell_type": "code",
      "source": [
        "from google.colab import drive\n",
        "drive.mount('/content/drive')"
      ],
      "metadata": {
        "colab": {
          "base_uri": "https://localhost:8080/"
        },
        "id": "jguZGJfe9XiU",
        "outputId": "69d2dae9-a140-4835-d435-e59a6abc98f6"
      },
      "execution_count": 3,
      "outputs": [
        {
          "output_type": "stream",
          "name": "stdout",
          "text": [
            "Mounted at /content/drive\n"
          ]
        }
      ]
    },
    {
      "cell_type": "code",
      "source": [
        "%cd /content/drive/My Drive/MasterCourse/Sports Instrument"
      ],
      "metadata": {
        "colab": {
          "base_uri": "https://localhost:8080/"
        },
        "id": "0RukwN_X9VVs",
        "outputId": "c5e833b3-6e92-4f51-83b2-2bc7a73dbcca"
      },
      "execution_count": 4,
      "outputs": [
        {
          "output_type": "stream",
          "name": "stdout",
          "text": [
            "/content/drive/My Drive/MasterCourse/Sports Instrument\n"
          ]
        }
      ]
    },
    {
      "cell_type": "code",
      "source": [
        "version = 1\n",
        "img_path = 'test_images'\n",
        "model_path = f'models/dataloader-v{version}.pkl'"
      ],
      "metadata": {
        "id": "07_0AQim9Srs"
      },
      "execution_count": 5,
      "outputs": []
    },
    {
      "cell_type": "code",
      "source": [
        "model = load_learner(model_path)"
      ],
      "metadata": {
        "id": "TnH9iP5T9qvs"
      },
      "execution_count": 6,
      "outputs": []
    },
    {
      "cell_type": "markdown",
      "source": [
        "# Inference 1\n",
        "\n",
        "**Target:** Badminton racket"
      ],
      "metadata": {
        "id": "dZ6OKMmx98BF"
      }
    },
    {
      "cell_type": "code",
      "source": [
        "img = Image.open(f'{img_path}/ex1.jpg')\n",
        "img.to_thumb(128,128)"
      ],
      "metadata": {
        "colab": {
          "base_uri": "https://localhost:8080/",
          "height": 121
        },
        "id": "5JReTN2L9wBm",
        "outputId": "e8947ad2-7827-407f-87f9-142cef5dbcf8"
      },
      "execution_count": 16,
      "outputs": [
        {
          "output_type": "execute_result",
          "data": {
            "text/plain": [
              "<PIL.Image.Image image mode=RGB size=128x104>"
            ],
            "image/png": "[encoded data removed]"
          },
          "metadata": {},
          "execution_count": 16
        }
      ]
    },
    {
      "cell_type": "code",
      "source": [
        "model.predict(f'{img_path}/ex1.jpg')"
      ],
      "metadata": {
        "colab": {
          "base_uri": "https://localhost:8080/",
          "height": 121
        },
        "id": "9BLqvkxd-DxA",
        "outputId": "848e1111-8138-4806-a714-bd48f843f13f"
      },
      "execution_count": 14,
      "outputs": [
        {
          "output_type": "display_data",
          "data": {
            "text/plain": [
              "<IPython.core.display.HTML object>"
            ],
            "text/html": [
              "\n",
              "<style>\n",
              "    /* Turns off some styling */\n",
              "    progress {\n",
              "        /* gets rid of default border in Firefox and Opera. */\n",
              "        border: none;\n",
              "        /* Needs to be in here for Safari polyfill so background images work as expected. */\n",
              "        background-size: auto;\n",
              "    }\n",
              "    progress:not([value]), progress:not([value])::-webkit-progress-bar {\n",
              "        background: repeating-linear-gradient(45deg, #7e7e7e, #7e7e7e 10px, #5c5c5c 10px, #5c5c5c 20px);\n",
              "    }\n",
              "    .progress-bar-interrupted, .progress-bar-interrupted::-webkit-progress-bar {\n",
              "        background: #F44336;\n",
              "    }\n",
              "</style>\n"
            ]
          },
          "metadata": {}
        },
        {
          "output_type": "display_data",
          "data": {
            "text/plain": [
              "<IPython.core.display.HTML object>"
            ],
            "text/html": []
          },
          "metadata": {}
        },
        {
          "output_type": "execute_result",
          "data": {
            "text/plain": [
              "('Badminton racket',\n",
              " tensor(1),\n",
              " tensor([3.7045e-05, 9.9924e-01, 1.0348e-06, 1.1507e-06, 1.7797e-06, 2.7588e-06,\n",
              "         6.8471e-07, 1.0726e-05, 1.1417e-05, 5.6539e-08, 1.4067e-06, 1.0002e-06,\n",
              "         1.8730e-05, 1.1303e-05, 1.0781e-06, 4.2434e-07, 1.7544e-06, 2.1575e-04,\n",
              "         6.6128e-06, 4.3713e-04, 3.1804e-06]))"
            ]
          },
          "metadata": {},
          "execution_count": 14
        }
      ]
    },
    {
      "cell_type": "markdown",
      "source": [
        "# Inference 2\n",
        "\n",
        "**Target:** Squash racket"
      ],
      "metadata": {
        "id": "J2fpSrEU-PKD"
      }
    },
    {
      "cell_type": "code",
      "source": [
        "img = Image.open(f'{img_path}/ex3.jpg')\n",
        "img.to_thumb(128,128)"
      ],
      "metadata": {
        "colab": {
          "base_uri": "https://localhost:8080/",
          "height": 145
        },
        "id": "hS5MOe4m-Q6r",
        "outputId": "01b1e4eb-22ce-486f-be47-2ff41c8a8876"
      },
      "execution_count": 17,
      "outputs": [
        {
          "output_type": "execute_result",
          "data": {
            "text/plain": [
              "<PIL.Image.Image image mode=RGB size=128x128>"
            ],
            "image/png": "[encoded data removed]"
          },
          "metadata": {},
          "execution_count": 17
        }
      ]
    },
    {
      "cell_type": "code",
      "source": [
        "model.predict(f'{img_path}/ex3.jpg')"
      ],
      "metadata": {
        "colab": {
          "base_uri": "https://localhost:8080/",
          "height": 121
        },
        "id": "kmql0BII-SyY",
        "outputId": "bd2c13d0-79bd-42f4-a796-558cea4dbb1a"
      },
      "execution_count": 18,
      "outputs": [
        {
          "output_type": "display_data",
          "data": {
            "text/plain": [
              "<IPython.core.display.HTML object>"
            ],
            "text/html": [
              "\n",
              "<style>\n",
              "    /* Turns off some styling */\n",
              "    progress {\n",
              "        /* gets rid of default border in Firefox and Opera. */\n",
              "        border: none;\n",
              "        /* Needs to be in here for Safari polyfill so background images work as expected. */\n",
              "        background-size: auto;\n",
              "    }\n",
              "    progress:not([value]), progress:not([value])::-webkit-progress-bar {\n",
              "        background: repeating-linear-gradient(45deg, #7e7e7e, #7e7e7e 10px, #5c5c5c 10px, #5c5c5c 20px);\n",
              "    }\n",
              "    .progress-bar-interrupted, .progress-bar-interrupted::-webkit-progress-bar {\n",
              "        background: #F44336;\n",
              "    }\n",
              "</style>\n"
            ]
          },
          "metadata": {}
        },
        {
          "output_type": "display_data",
          "data": {
            "text/plain": [
              "<IPython.core.display.HTML object>"
            ],
            "text/html": []
          },
          "metadata": {}
        },
        {
          "output_type": "execute_result",
          "data": {
            "text/plain": [
              "('Squash racket',\n",
              " tensor(17),\n",
              " tensor([3.4900e-09, 1.1123e-07, 8.7817e-08, 8.3734e-07, 1.1333e-09, 3.6867e-08,\n",
              "         1.1027e-07, 8.8201e-09, 9.6653e-11, 1.3377e-08, 5.3024e-08, 3.0277e-08,\n",
              "         9.1441e-10, 3.1339e-06, 2.9496e-08, 1.3002e-09, 5.3781e-09, 9.9999e-01,\n",
              "         1.3534e-09, 1.9455e-06, 1.1369e-09]))"
            ]
          },
          "metadata": {},
          "execution_count": 18
        }
      ]
    },
    {
      "cell_type": "markdown",
      "source": [
        "# Inference 3\n",
        "**Target:** Cricket Ball"
      ],
      "metadata": {
        "id": "ydjMUfaYSq2z"
      }
    },
    {
      "cell_type": "code",
      "source": [
        "img = Image.open(f'{img_path}/ex5.jpg')\n",
        "img.to_thumb(128,128)"
      ],
      "metadata": {
        "colab": {
          "base_uri": "https://localhost:8080/",
          "height": 145
        },
        "id": "48eESo59S1Bi",
        "outputId": "ff27c8d7-2966-4e34-948e-780f13663cdf"
      },
      "execution_count": 19,
      "outputs": [
        {
          "output_type": "execute_result",
          "data": {
            "text/plain": [
              "<PIL.Image.Image image mode=RGB size=128x128>"
            ],
            "image/png": "[encoded data removed]"
          },
          "metadata": {},
          "execution_count": 19
        }
      ]
    },
    {
      "cell_type": "code",
      "source": [
        "model.predict(f'{img_path}/ex5.jpg')"
      ],
      "metadata": {
        "colab": {
          "base_uri": "https://localhost:8080/",
          "height": 121
        },
        "id": "CMBpIj4vS3IJ",
        "outputId": "dc90884a-fb9e-4b23-ebaa-7ce463a60a40"
      },
      "execution_count": 21,
      "outputs": [
        {
          "output_type": "display_data",
          "data": {
            "text/plain": [
              "<IPython.core.display.HTML object>"
            ],
            "text/html": [
              "\n",
              "<style>\n",
              "    /* Turns off some styling */\n",
              "    progress {\n",
              "        /* gets rid of default border in Firefox and Opera. */\n",
              "        border: none;\n",
              "        /* Needs to be in here for Safari polyfill so background images work as expected. */\n",
              "        background-size: auto;\n",
              "    }\n",
              "    progress:not([value]), progress:not([value])::-webkit-progress-bar {\n",
              "        background: repeating-linear-gradient(45deg, #7e7e7e, #7e7e7e 10px, #5c5c5c 10px, #5c5c5c 20px);\n",
              "    }\n",
              "    .progress-bar-interrupted, .progress-bar-interrupted::-webkit-progress-bar {\n",
              "        background: #F44336;\n",
              "    }\n",
              "</style>\n"
            ]
          },
          "metadata": {}
        },
        {
          "output_type": "display_data",
          "data": {
            "text/plain": [
              "<IPython.core.display.HTML object>"
            ],
            "text/html": []
          },
          "metadata": {}
        },
        {
          "output_type": "execute_result",
          "data": {
            "text/plain": [
              "('Cricket ball',\n",
              " tensor(5),\n",
              " tensor([4.2817e-07, 3.7435e-07, 5.6589e-07, 7.6534e-06, 8.3334e-05, 9.9964e-01,\n",
              "         1.3906e-06, 1.5737e-06, 7.1096e-05, 1.8130e-07, 8.4230e-07, 3.7564e-06,\n",
              "         3.7790e-07, 7.0029e-07, 3.2969e-06, 1.5838e-04, 7.5625e-06, 1.2700e-06,\n",
              "         9.7211e-07, 7.4415e-06, 1.0739e-05]))"
            ]
          },
          "metadata": {},
          "execution_count": 21
        }
      ]
    },
    {
      "cell_type": "markdown",
      "source": [
        "# Inference 4\n",
        "**Target:** Volleyball"
      ],
      "metadata": {
        "id": "9bBvk7dPTRKS"
      }
    },
    {
      "cell_type": "code",
      "source": [
        "img = Image.open(f'{img_path}/ex8.jpg')\n",
        "img.to_thumb(128,128)"
      ],
      "metadata": {
        "colab": {
          "base_uri": "https://localhost:8080/",
          "height": 145
        },
        "id": "OB_w4TaUTUOa",
        "outputId": "261e155a-378f-494c-da75-6f1ab662745c"
      },
      "execution_count": 25,
      "outputs": [
        {
          "output_type": "execute_result",
          "data": {
            "text/plain": [
              "<PIL.Image.Image image mode=RGB size=128x128>"
            ],
            "image/png": "[encoded data removed]"
          },
          "metadata": {},
          "execution_count": 25
        }
      ]
    },
    {
      "cell_type": "code",
      "source": [
        "model.predict(f'{img_path}/ex8.jpg')"
      ],
      "metadata": {
        "colab": {
          "base_uri": "https://localhost:8080/",
          "height": 121
        },
        "id": "Qblxq0aATduB",
        "outputId": "49d80e02-e3cd-4417-8e83-beb15b0f0fcd"
      },
      "execution_count": 26,
      "outputs": [
        {
          "output_type": "display_data",
          "data": {
            "text/plain": [
              "<IPython.core.display.HTML object>"
            ],
            "text/html": [
              "\n",
              "<style>\n",
              "    /* Turns off some styling */\n",
              "    progress {\n",
              "        /* gets rid of default border in Firefox and Opera. */\n",
              "        border: none;\n",
              "        /* Needs to be in here for Safari polyfill so background images work as expected. */\n",
              "        background-size: auto;\n",
              "    }\n",
              "    progress:not([value]), progress:not([value])::-webkit-progress-bar {\n",
              "        background: repeating-linear-gradient(45deg, #7e7e7e, #7e7e7e 10px, #5c5c5c 10px, #5c5c5c 20px);\n",
              "    }\n",
              "    .progress-bar-interrupted, .progress-bar-interrupted::-webkit-progress-bar {\n",
              "        background: #F44336;\n",
              "    }\n",
              "</style>\n"
            ]
          },
          "metadata": {}
        },
        {
          "output_type": "display_data",
          "data": {
            "text/plain": [
              "<IPython.core.display.HTML object>"
            ],
            "text/html": []
          },
          "metadata": {}
        },
        {
          "output_type": "execute_result",
          "data": {
            "text/plain": [
              "('Volleyball ball',\n",
              " tensor(20),\n",
              " tensor([2.6936e-08, 1.5381e-08, 7.0612e-08, 1.2874e-07, 5.6588e-08, 3.5044e-07,\n",
              "         2.9646e-08, 5.1757e-08, 1.0819e-04, 3.5082e-07, 1.8526e-10, 1.9101e-08,\n",
              "         8.4744e-08, 6.7869e-09, 1.3013e-08, 6.8950e-07, 6.5373e-06, 4.1775e-09,\n",
              "         5.0660e-07, 2.7032e-08, 9.9988e-01]))"
            ]
          },
          "metadata": {},
          "execution_count": 26
        }
      ]
    }
  ]
}